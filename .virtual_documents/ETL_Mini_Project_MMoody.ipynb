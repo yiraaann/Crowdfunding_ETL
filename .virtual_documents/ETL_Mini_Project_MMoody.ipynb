# Import dependencies
import pandas as pd
import numpy as np
pd.set_option('max_colwidth', 400)





# Read the data into a Pandas DataFrame
crowdfunding_info_df = pd.read_excel('Resources/crowdfunding.xlsx')
crowdfunding_info_df.head()


# Get a brief summary of the crowdfunding_info DataFrame.






# Get the crowdfunding_info_df columns.



# Assign the category and subcategory values to category and subcategory columns.



# Get the unique categories and subcategories in separate lists.


print(categories)
print(subcategories)


# Get the number of distinct values in the categories and subcategories lists.
print(len(categories))
print(len(subcategories))


# Create numpy arrays from 1-9 for the categories and 1-24 for the subcategories.
category_ids = np.arange(1, 10)
subcategory_ids = np.arange(1, 25)

print(category_ids)
print(subcategory_ids)


# Use a list comprehension to add "cat" to each category_id. 

# Use a list comprehension to add "subcat" to each subcategory_id.    

    
print(cat_ids)
print(scat_ids)


# Create a category DataFrame with the category_id array as the category_id and categories list as the category name.

# Create a category DataFrame with the subcategory_id array as the subcategory_id and subcategories list as the subcategory name. 



category_df


subcategory_df


# Export categories_df and subcategories_df as CSV files.
category_df.to_csv("Resources/category.csv", index=False)

subcategory_df.to_csv("Resources/subcategory.csv", index=False)





# Create a copy of the crowdfunding_info_df DataFrame name campaign_df. 
campaign_df = crowdfunding_info_df.copy()
campaign_df.head()


# Rename the blurb, launched_at, and deadline columns.



# Convert the goal and pledged columns to a `float` data type.



# Check the datatypes



# Format the launched_date and end_date columns to datetime format
from datetime import datetime as dt



# Merge the campaign_df with the category_df on the "category" column and 
# the subcategory_df on the "subcategory" column.


campaign_merged_df.tail(10)


# Drop unwanted columns



# Export the DataFrame as a CSV file. 
campaign_cleaned.to_csv("Resources/campaign.csv", index=False)





# Read the data into a Pandas DataFrame. Use the `header=3` parameter when reading in the data; different header format from the crowdfunding file
contact_info_df_orig = pd.read_excel('Resources/contacts.xlsx', header=3)
contact_info_df_orig.head()


# Get the column names and datatypes using `.info()` - One row = Dictionary format
contact_info_df_orig.info()








# Test extracting the key and values from the first row using json.loads().
import json

first_row = contact_info_df_orig.iloc[0]['contact_info']
converted_data = json.loads(first_row)

# Convert the data to a Python dictionary.
for k, v in converted_data.items():
   print(k, v)


# Iterate through the contact_info_df and convert each row to a dictionary.
dict_values = []
for i, row in contact_info_df_orig.iterrows():
    
    # Get the data first item in each row
    data = row['contact_info']
    converted_data = json.loads(data)
    
    # Iterate through each dictionary (row) and get the values for each row using list comprehension
    row_values = [v for k, v in converted_data.items()]
    
    # Append the list of values for each row to a new list
    dict_values.append(row_values)
    
# Print out the list of values for each row
print(dict_values)


# Create a contact_info DataFrame - 
# 1. Create two lists, one for the keys (column_names) and one for the values
values = []
column_names = []

#  2. Iterate through the DataFrame
for i, row in contact_info_df_orig.iterrows():
    data = row.iloc[0]

    # Convert each row to a Python dictionary.
    converted_data = json.loads(data)

    # Use a list comprehension to get the keys from the converted data.
    columns = [k for k, v in converted_data.items()]

    # Use a list comprehension to get the values for each row.
    row_values = [v for k, v in converted_data.items()]

    # Append the keys and list values to the lists created in step 1.
    column_names.append(columns)
    values.append(row_values)

contact_info_df = pd.DataFrame(values,columns=column_names[0])
contact_info_df.head()


# Check the datatypes.
contact_info_df.info()


print(contact_info_df.columns)


# Split the 'name' column into 'first_name' and 'last_name'
contact_info_df[['first_name', 'last_name']] = contact_info_df['name'].str.split(' ', expand=True)

# Drop the 'name' column
contact_info_df=contact_info_df.drop(columns=['name'])

contact_info_df.head()



# Reorder the columns
contact_info_df = contact_info_df[['contact_id', 'first_name', 'last_name', 'email']]
contact_info_df.head()


# Check the datatypes one more time before exporting as CSV file.
contact_info_df.dtypes


# Export the DataFrame as a CSV file. 
contact_info_df.to_csv("CSV files/contacts.csv", encoding='utf8', index=False)





contact_info_df_copy = contact_info_df_orig.copy()
contact_info_df_copy.head()


# Extract the four-digit contact ID number.
contact_info_df_copy['contact_id'] = contact_info_df_copy['contact_info'].str.extract(r'(\d+)')
contact_info_df_copy.head()


# Check the datatypes.
contact_info_df_copy.info()


# Convert the "contact_id" column to an int64 data type.
contact_info_df_copy['contact_id'] = pd.to_numeric(contact_info_df_copy['contact_id'])
contact_info_df_copy.info()


# Extract the name of the contact and add it to a new column.
contact_info_df_copy['name'] = contact_info_df_copy['contact_info'].str.extract(r'"name":\s*"([^"]+)"')
contact_info_df_copy.head(10)


# Extract the email from the contacts and add the values to a new column.
contact_info_df_copy['email'] = contact_info_df_copy['contact_info'].str.extract(r'"email":\s*"([^"]+)"')
contact_info_df_copy.head(10)


# Create a copy of the contact_info_df with the 'contact_id', 'name', 'email' columns.
new_contact_info_df = contact_info_df_copy[['contact_id', 'name', 'email']].copy()
new_contact_info_df.head(10)


# Create a "first_name" and "last_name" column with the first and last names from the "name" column. 
new_contact_info_df[['first_name', 'last_name']] = new_contact_info_df['name'].str.split(' ', n=1, expand=True)
                                             
# Drop the contact_name column
contact_info_clean = new_contact_info_df.drop(columns=['name'])
contact_info_clean.head(10)


# Reorder the columns
contact_info_clean = contact_info_clean[['contact_id', 'first_name', 'last_name', 'email']]
contact_info_clean.head(10)


# Check the datatypes one more time before exporting as CSV file.
contact_info_clean.info()


# Export the DataFrame as a CSV file. 
contact_info_clean.to_csv("CSV files/contacts.csv", encoding='utf8', index=False)



